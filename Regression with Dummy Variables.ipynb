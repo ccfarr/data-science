{
 "cells": [
  {
   "cell_type": "markdown",
   "metadata": {},
   "source": [
    "## Getting at Causality: An Illustrative Example of Regression with Dummy Variables\n",
    "\n",
    "*Presented at [TogaData - Apr 9, 2017](https://www.meetup.com/Saratoga-Machine-Learning-and-Big-Data-Analytics/events/238983259/)*  \n",
    "*by Chris Farr, PhD*"
   ]
  },
  {
   "cell_type": "markdown",
   "metadata": {},
   "source": [
    "<!-- <img src=\"http://press.princeton.edu/images/k10363.gif\" width=\"200\" height=\"40\"> -->\n",
    "\n",
    "### Purpose\n",
    "To demonstrate the use of **Regression with Dummy Variables** by reviewing an illustrative example from [Mastering 'Metrics: The Path from Cause to Effect](http://masteringmetrics.com) by Joshua D. Angrist and Steffen Pischke\n",
    "\n",
    "### Agenda\n",
    "\n",
    "1. The Question\n",
    "1. Earnings Gap\n",
    "1. The Idea\n",
    "1. Earnings Gap When Controlling for Group Designation\n",
    "1. Regression Model\n",
    "1. The Design Matrix $X$\n",
    "1. OLS Estimate\n",
    "1. Wrap-Up\n"
   ]
  },
  {
   "cell_type": "markdown",
   "metadata": {},
   "source": [
    "### 1. The Question\n",
    "\n",
    "***What is the effect on earnings of attending a private versus public college?***"
   ]
  },
  {
   "cell_type": "markdown",
   "metadata": {},
   "source": [
    "### 2. Earnings Gap"
   ]
  },
  {
   "cell_type": "markdown",
   "metadata": {},
   "source": [
    "Let's look at an illustrative dataset (taken from [Mastering 'Metrics: The Path from Cause to Effect](http://masteringmetrics.com) by Joshua D. Angrist and Steffen Pischke, page 53) and compute the **Earnings Gap**."
   ]
  },
  {
   "cell_type": "code",
   "execution_count": 1,
   "metadata": {
    "collapsed": true
   },
   "outputs": [],
   "source": [
    "import pandas as pd\n",
    "import numpy as np"
   ]
  },
  {
   "cell_type": "code",
   "execution_count": 2,
   "metadata": {
    "collapsed": false
   },
   "outputs": [
    {
     "name": "stdout",
     "output_type": "stream",
     "text": [
      "        Enroll_Dec  Earnings\n",
      "Student                     \n",
      "0          Private    110000\n",
      "1          Private    100000\n",
      "2           Public    110000\n",
      "3          Private     60000\n",
      "4           Public     30000\n",
      "5          Private    115000\n",
      "6          Private     75000\n",
      "7           Public     90000\n",
      "8           Public     60000\n"
     ]
    }
   ],
   "source": [
    "# Initial Data\n",
    "df = pd.DataFrame([\n",
    "        ['Private', 110000],\n",
    "        ['Private', 100000],\n",
    "        ['Public', 110000],\n",
    "        ['Private', 60000],\n",
    "        ['Public', 30000],\n",
    "        ['Private', 115000],\n",
    "        ['Private', 75000],\n",
    "        ['Public', 90000],\n",
    "        ['Public', 60000]\n",
    "    ], columns=['Enroll_Dec', 'Earnings'])\n",
    "df.index.name = 'Student'\n",
    "print(df)"
   ]
  },
  {
   "cell_type": "code",
   "execution_count": 3,
   "metadata": {
    "collapsed": false
   },
   "outputs": [
    {
     "data": {
      "text/plain": [
       "Enroll_Dec\n",
       "Private    92000\n",
       "Public     72500\n",
       "Name: Earnings, dtype: int64"
      ]
     },
     "execution_count": 3,
     "metadata": {},
     "output_type": "execute_result"
    }
   ],
   "source": [
    "df.groupby('Enroll_Dec').mean()['Earnings']"
   ]
  },
  {
   "cell_type": "markdown",
   "metadata": {},
   "source": [
    "Private students earned on average `$19,500` more than students who attended public colleges. Is this a valid comparison?\n",
    "\n",
    "$$\n",
    "\\text{Raw Earnings Gap} = 92,000 - 72,500 = 19,500\n",
    "$$"
   ]
  },
  {
   "cell_type": "markdown",
   "metadata": {},
   "source": [
    "### 3. The Idea\n",
    "The above points to a private-public earnings gap, yet we're not controlling for a host of other factors which could impact earnings like ability, SAT scores, gender, race, career ambition, family connections, family income and so on.\n",
    "\n",
    "One approach is to group students based on the schools they both applied to and were admitted. Arguably, this controls for factors that impact earnings like ability -- and perhaps ambition -- and allows us to better isolate the effect on earnings of attending a private college. This doesn't control for all of the possible influences on earnings, but it's a start.\n",
    "\n",
    "To do this, we augment the data above by grouping students into four groups:"
   ]
  },
  {
   "cell_type": "markdown",
   "metadata": {},
   "source": [
    "Group | Student | Private <br/> Ivy | Private <br/> Leafy | Private <br/> Smart | Public <br/> All State | Public <br/> Tall State | Public <br> Alt State | Earnings $\n",
    ":---: | :---: | :---: | :---: | :---: | :---: | :---: | :---: | ---:\n",
    "A | 0 | | Reject | <span style=\"background-color: #FFFF00\">**Enroll**</span> | | Admit | | 110,000\n",
    "A | 1 | | Reject | <span style=\"background-color: #FFFF00\">**Enroll**</span> | | Admit | | 100,000\n",
    "A | 2 | | Reject | Admit | | <span style=\"background-color: #FFFF00\">**Enroll**</span> | | 110,000\n",
    "B | 3 | <span style=\"background-color: #FFFF00\">**Enroll**</span> | | | Admit | | Admit | 60,000\n",
    "B | 4 | Admit | | | Admit | | <span style=\"background-color: #FFFF00\">**Enroll**</span> | 30,000\n",
    "C | 5 | | <span style=\"background-color: #FFFF00\">**Enroll**</span> | | | | | 115,000\n",
    "C | 6 | | <span style=\"background-color: #FFFF00\">**Enroll**</span> | | | | | 75,000\n",
    "D | 7 | Reject | | | <span style=\"background-color: #FFFF00\">**Enroll**</span> | Admit | | 90,000\n",
    "D | 8 | Reject | | | Admit | <span style=\"background-color: #FFFF00\">**Enroll**</span> | | 60,000\n",
    "\n",
    "*Source: [Mastering 'Metrics: The Path from Cause to Effect](http://masteringmetrics.com) by Joshua D. Angrist and Steffen Pischke, page 53.*"
   ]
  },
  {
   "cell_type": "code",
   "execution_count": 4,
   "metadata": {
    "collapsed": false
   },
   "outputs": [
    {
     "data": {
      "text/html": [
       "<div>\n",
       "<table border=\"1\" class=\"dataframe\">\n",
       "  <thead>\n",
       "    <tr style=\"text-align: right;\">\n",
       "      <th></th>\n",
       "      <th>Enroll_Dec</th>\n",
       "      <th>Earnings</th>\n",
       "      <th>Group</th>\n",
       "    </tr>\n",
       "    <tr>\n",
       "      <th>Student</th>\n",
       "      <th></th>\n",
       "      <th></th>\n",
       "      <th></th>\n",
       "    </tr>\n",
       "  </thead>\n",
       "  <tbody>\n",
       "    <tr>\n",
       "      <th>0</th>\n",
       "      <td>Private</td>\n",
       "      <td>110000</td>\n",
       "      <td>A</td>\n",
       "    </tr>\n",
       "    <tr>\n",
       "      <th>1</th>\n",
       "      <td>Private</td>\n",
       "      <td>100000</td>\n",
       "      <td>A</td>\n",
       "    </tr>\n",
       "    <tr>\n",
       "      <th>2</th>\n",
       "      <td>Public</td>\n",
       "      <td>110000</td>\n",
       "      <td>A</td>\n",
       "    </tr>\n",
       "    <tr>\n",
       "      <th>3</th>\n",
       "      <td>Private</td>\n",
       "      <td>60000</td>\n",
       "      <td>B</td>\n",
       "    </tr>\n",
       "    <tr>\n",
       "      <th>4</th>\n",
       "      <td>Public</td>\n",
       "      <td>30000</td>\n",
       "      <td>B</td>\n",
       "    </tr>\n",
       "    <tr>\n",
       "      <th>5</th>\n",
       "      <td>Private</td>\n",
       "      <td>115000</td>\n",
       "      <td>C</td>\n",
       "    </tr>\n",
       "    <tr>\n",
       "      <th>6</th>\n",
       "      <td>Private</td>\n",
       "      <td>75000</td>\n",
       "      <td>C</td>\n",
       "    </tr>\n",
       "    <tr>\n",
       "      <th>7</th>\n",
       "      <td>Public</td>\n",
       "      <td>90000</td>\n",
       "      <td>D</td>\n",
       "    </tr>\n",
       "    <tr>\n",
       "      <th>8</th>\n",
       "      <td>Public</td>\n",
       "      <td>60000</td>\n",
       "      <td>D</td>\n",
       "    </tr>\n",
       "  </tbody>\n",
       "</table>\n",
       "</div>"
      ],
      "text/plain": [
       "        Enroll_Dec  Earnings Group\n",
       "Student                           \n",
       "0          Private    110000     A\n",
       "1          Private    100000     A\n",
       "2           Public    110000     A\n",
       "3          Private     60000     B\n",
       "4           Public     30000     B\n",
       "5          Private    115000     C\n",
       "6          Private     75000     C\n",
       "7           Public     90000     D\n",
       "8           Public     60000     D"
      ]
     },
     "execution_count": 4,
     "metadata": {},
     "output_type": "execute_result"
    }
   ],
   "source": [
    "# Let's put group assignment into our dataframe\n",
    "df['Group'] = [ 'A', 'A', 'A', 'B', 'B', 'C', 'C', 'D', 'D']; df"
   ]
  },
  {
   "cell_type": "markdown",
   "metadata": {},
   "source": [
    "### 4. Earnings Gap When Controlling for Group Designation\n",
    "\n",
    "So, in a sense, we have constructed four *experiments* in order to calculate the private-public earnings gap. It would be nice to have more -- many more -- observations in each group, but, hey, this is an illustrative example.\n",
    "\n",
    "Actually, we don't have four experiments, we have only two. Groups C and D are homogeneous and don't provide any information on the earnings gap: Group C has no students who went to public colleges, and Group D has no students who went to private colleges.\n",
    "\n",
    "Now, let's look at average private and public earnings by group designation, ignoring the output from Groups C and D from the `groupby` call:"
   ]
  },
  {
   "cell_type": "code",
   "execution_count": 5,
   "metadata": {
    "collapsed": false
   },
   "outputs": [
    {
     "data": {
      "text/plain": [
       "Group  Enroll_Dec\n",
       "A      Private       105000\n",
       "       Public        110000\n",
       "B      Private        60000\n",
       "       Public         30000\n",
       "C      Private        95000\n",
       "D      Public         75000\n",
       "Name: Earnings, dtype: int64"
      ]
     },
     "execution_count": 5,
     "metadata": {},
     "output_type": "execute_result"
    }
   ],
   "source": [
    "df.groupby(['Group','Enroll_Dec']).mean()['Earnings']"
   ]
  },
  {
   "cell_type": "markdown",
   "metadata": {},
   "source": [
    "We see that the private-public earnings differential, or gap, is the following for Groups A and B:\n",
    "\n",
    "\\begin{eqnarray}\n",
    "\\text{Group A Earnings Gap} &=& 105,000 - 110,000 &=& -5,000 \\nonumber \\\\\n",
    "\\text{Group B Earnings Gap} &=& \\:\\:60,000 - \\:\\:30,000 &=& \\:\\:\\:30,000 \\nonumber \\\\\n",
    "\\end{eqnarray}"
   ]
  },
  {
   "cell_type": "markdown",
   "metadata": {},
   "source": [
    "A simple average *across* Groups A and B yields a single estimate of the earnings gap:\n",
    "\n",
    "$$\n",
    "\\frac{\\big( -5,000 + 30,000 \\big)}{2} = 12,500\n",
    "$$\n",
    "\n",
    "Alternatively, Angrist and Pischke suggest weighting the groups by number of students to compute the average:\n",
    "\n",
    "$$\n",
    "\\Big( \\frac{3}{5} \\times -5,000 \\Big) + \\Big( \\frac{2}{5} \\times 30,000 \\Big) = 9,000\n",
    "$$"
   ]
  },
  {
   "cell_type": "markdown",
   "metadata": {},
   "source": [
    "### 5. Regression Model\n",
    "\n",
    "Now, with this intuition, let's do something more formal and run a regression with two dummy variables:\n",
    "\n",
    "$$\n",
    "Y_i = \\alpha + \\beta P_i + \\gamma A_i + e_i\n",
    "$$\n",
    "\n",
    "Our parameters are defined as follows:\n",
    "\n",
    "* $\\alpha$ is the intercept\n",
    "* $\\beta$ is the causal effect on earnings of attending a private college\n",
    "* $\\gamma$ is the effect of being in Group A\n",
    "\n",
    "The dependent and independent variables are defined as follows:\n",
    "\n",
    "* $Y_i$ is the earnings for student $i$\n",
    "* $P_i$ is our dummy variable with a value of **1** if student $i$ is enrolled in a private school and **0** otherwise\n",
    "* $A_i$ is another dummy variable with a value of **1** if student $i$ is in Group A and a value of **0** otherwise"
   ]
  },
  {
   "cell_type": "markdown",
   "metadata": {},
   "source": [
    "Recall Student 2's information:"
   ]
  },
  {
   "cell_type": "code",
   "execution_count": 6,
   "metadata": {
    "collapsed": false
   },
   "outputs": [
    {
     "data": {
      "text/plain": [
       "Enroll_Dec    Public\n",
       "Earnings      110000\n",
       "Group              A\n",
       "Name: 2, dtype: object"
      ]
     },
     "execution_count": 6,
     "metadata": {},
     "output_type": "execute_result"
    }
   ],
   "source": [
    "# Student with index 2\n",
    "df.iloc[2]"
   ]
  },
  {
   "cell_type": "markdown",
   "metadata": {},
   "source": [
    "Her feature vector is the following:\n",
    "\n",
    "$$\n",
    "x_2 = \n",
    "\\begin{bmatrix}\n",
    "    1 \\\\\n",
    "    P_2 = 0 \\\\\n",
    "    A_2 = 1 \\\\\n",
    "\\end{bmatrix}\n",
    "$$"
   ]
  },
  {
   "cell_type": "markdown",
   "metadata": {},
   "source": [
    "### 6. The Design Matrix $X$\n",
    "\n",
    "To run the regression, we need to first arrange our data into a design matrix $X$, observations as rows and features as columns."
   ]
  },
  {
   "cell_type": "code",
   "execution_count": 7,
   "metadata": {
    "collapsed": false
   },
   "outputs": [
    {
     "data": {
      "text/plain": [
       "array([ 1.,  1.,  1.,  1.,  1.,  1.,  1.,  1.,  1.])"
      ]
     },
     "execution_count": 7,
     "metadata": {},
     "output_type": "execute_result"
    }
   ],
   "source": [
    "# Intercept\n",
    "i = np.ones(df.shape[0]); i"
   ]
  },
  {
   "cell_type": "code",
   "execution_count": 8,
   "metadata": {
    "collapsed": false
   },
   "outputs": [
    {
     "data": {
      "text/plain": [
       "array([1, 1, 0, 1, 0, 1, 1, 0, 0])"
      ]
     },
     "execution_count": 8,
     "metadata": {},
     "output_type": "execute_result"
    }
   ],
   "source": [
    "# Private dummy\n",
    "p = (df['Enroll_Dec'] == 'Private').values.astype(int); p"
   ]
  },
  {
   "cell_type": "code",
   "execution_count": 9,
   "metadata": {
    "collapsed": false
   },
   "outputs": [
    {
     "data": {
      "text/plain": [
       "array([1, 1, 1, 0, 0, 0, 0, 0, 0])"
      ]
     },
     "execution_count": 9,
     "metadata": {},
     "output_type": "execute_result"
    }
   ],
   "source": [
    "# Group A dummy\n",
    "a = (df['Group'] == 'A').values.astype(int); a"
   ]
  },
  {
   "cell_type": "code",
   "execution_count": 10,
   "metadata": {
    "collapsed": true
   },
   "outputs": [],
   "source": [
    "# Groups C and D, Group B is reference group\n",
    "c = (df['Group'] == 'C').values.astype(int)\n",
    "d = (df['Group'] == 'D').values.astype(int)"
   ]
  },
  {
   "cell_type": "code",
   "execution_count": 11,
   "metadata": {
    "collapsed": false
   },
   "outputs": [
    {
     "data": {
      "text/plain": [
       "array([[ 1.,  1.,  1.,  0.,  0.],\n",
       "       [ 1.,  1.,  1.,  0.,  0.],\n",
       "       [ 1.,  0.,  1.,  0.,  0.],\n",
       "       [ 1.,  1.,  0.,  0.,  0.],\n",
       "       [ 1.,  0.,  0.,  0.,  0.],\n",
       "       [ 1.,  1.,  0.,  1.,  0.],\n",
       "       [ 1.,  1.,  0.,  1.,  0.],\n",
       "       [ 1.,  0.,  0.,  0.,  1.],\n",
       "       [ 1.,  0.,  0.,  0.,  1.]])"
      ]
     },
     "execution_count": 11,
     "metadata": {},
     "output_type": "execute_result"
    }
   ],
   "source": [
    "# Design matrix X\n",
    "# m - observations, n - features\n",
    "# 1st column : constant term\n",
    "# 2nd column : 1 - enrolled in private college, 0 - public college\n",
    "# 3rd column : 1 - Group A, 0 - Group B\n",
    "Xfull = np.stack((i, p, a, c, d), axis=-1); Xfull"
   ]
  },
  {
   "cell_type": "code",
   "execution_count": 12,
   "metadata": {
    "collapsed": false
   },
   "outputs": [
    {
     "data": {
      "text/plain": [
       "array([[ 1.,  1.,  1.],\n",
       "       [ 1.,  1.,  1.],\n",
       "       [ 1.,  0.,  1.],\n",
       "       [ 1.,  1.,  0.],\n",
       "       [ 1.,  0.,  0.]])"
      ]
     },
     "execution_count": 12,
     "metadata": {},
     "output_type": "execute_result"
    }
   ],
   "source": [
    "X = Xfull[:5,:3]; X # for Groups A and B only"
   ]
  },
  {
   "cell_type": "markdown",
   "metadata": {},
   "source": [
    "Let's also define our earnings vector $y$:"
   ]
  },
  {
   "cell_type": "code",
   "execution_count": 13,
   "metadata": {
    "collapsed": false
   },
   "outputs": [
    {
     "data": {
      "text/plain": [
       "array([110000, 100000, 110000,  60000,  30000])"
      ]
     },
     "execution_count": 13,
     "metadata": {},
     "output_type": "execute_result"
    }
   ],
   "source": [
    "# Earnings vector\n",
    "yfull = np.array([110000, 100000, 110000, 60000, 30000,\n",
    "               115000, 75000, 90000, 60000])\n",
    "y = yfull[:5]; y # for Groups A and B only"
   ]
  },
  {
   "cell_type": "markdown",
   "metadata": {},
   "source": [
    "### 7. OLS Estimate"
   ]
  },
  {
   "cell_type": "markdown",
   "metadata": {},
   "source": [
    "We'll find $\\hat{\\theta}$ analytically by calculating\n",
    "\n",
    "$$\n",
    "\\hat{\\theta} = (X^T X)^{-1}X^Ty\n",
    "$$\n",
    "\n",
    "where $\\hat{\\theta}$ equals the $3 \\times 1$ column vector of our parameter estimates\n",
    "\n",
    "$$\n",
    "\\hat{\\theta} = \n",
    "\\begin{bmatrix}\n",
    "    \\hat{\\alpha} \\\\\n",
    "    \\hat{\\beta} \\\\\n",
    "    \\hat{\\gamma} \\\\\n",
    "\\end{bmatrix}\n",
    "$$\n",
    "\n",
    "*See Prof. Strang's [Lecture 15](https://ocw.mit.edu/courses/mathematics/18-06-linear-algebra-spring-2010/video-lectures/lecture-15-projections-onto-subspaces/) for a refresher on solving least squares problems this way.*"
   ]
  },
  {
   "cell_type": "code",
   "execution_count": 14,
   "metadata": {
    "collapsed": false
   },
   "outputs": [
    {
     "data": {
      "text/plain": [
       "array([ 40000.,  10000.,  60000.])"
      ]
     },
     "execution_count": 14,
     "metadata": {},
     "output_type": "execute_result"
    }
   ],
   "source": [
    "# Ordinary Least Squares estimate, thetahat\n",
    "thetahat = np.linalg.inv(X.T @ X) @ (X.T @ y); thetahat"
   ]
  },
  {
   "cell_type": "markdown",
   "metadata": {},
   "source": [
    "Thus, here are our estimates of the regression parameters:\n",
    "\n",
    "$$\n",
    "\\hat{\\theta} = \n",
    "\\begin{bmatrix}\n",
    "\\hat{\\alpha} = 40,000 \\nonumber \\\\\n",
    "\\hat{\\beta} = 10,000 \\nonumber \\\\\n",
    "\\hat{\\gamma} = 60,000 \\nonumber \\\\\n",
    "\\end{bmatrix}\n",
    "$$\n",
    "\n",
    "In this example, we're more interested in the parameter estimates, namely the causal effect of private school education $\\hat{\\beta}$, but the below is what our model would deliver for predicted earnings for student $i$:\n",
    "\n",
    "$$\n",
    "\\hat{Y}_i = 40,000 + 10,000 P_i + 60,000 A_i\n",
    "$$"
   ]
  },
  {
   "cell_type": "markdown",
   "metadata": {},
   "source": [
    "OLS effectively assigned the following weights to Group A and Group B:\n",
    "\n",
    "$$\n",
    "\\Big( \\frac{4}{7} \\times -5,000 \\Big) + \\Big( \\frac{3}{7} \\times 30,000 \\Big) = 10,000\n",
    "$$"
   ]
  },
  {
   "cell_type": "markdown",
   "metadata": {},
   "source": [
    "### 8. Wrap-Up"
   ]
  },
  {
   "cell_type": "markdown",
   "metadata": {},
   "source": [
    "Let's recap our various estimates of the **Earnings Gap**:\n",
    "\n",
    "\\begin{eqnarray}\n",
    "\\text{Raw} &=& 19,500 \\nonumber \\\\\n",
    "\\text{Simple Average} &=& 12,500 \\nonumber \\\\\n",
    "\\text{Weighted Average} &=& \\,\\,\\, 9,000 \\nonumber \\\\\n",
    "\\text{OLS Estimate} &=& 10,000 \\nonumber \\\\\n",
    "\\end{eqnarray}"
   ]
  },
  {
   "cell_type": "markdown",
   "metadata": {},
   "source": [
    "### Appendix"
   ]
  },
  {
   "cell_type": "markdown",
   "metadata": {},
   "source": [
    "#### a. Article which inspired the illustrative example\n",
    "\n",
    "Stacy Berg Dale, Alan B. Krueger; **Estimating the Payoff to Attending a More Selective College: An Application of Selection on Observables and Unobservables.** Q J Econ 2002; 117 (4): 1491-1527. doi: 10.1162/003355302320935089\n",
    "\n",
    "*Estimates of the effect of college selectivity on earnings may be biased because elite colleges admit students, in part, based on characteristics that are related to future earnings. We matched students who applied to, and were accepted by, similar colleges to try to eliminate this bias. Using the College and Beyond data set and National Longitudinal Survey of the High School Class of 1972, we find that students who attended more selective colleges earned about the same as students of seemingly comparable ability who attended less selective schools. Children from low-income families, however, earned more if they attended selective colleges.*"
   ]
  },
  {
   "cell_type": "markdown",
   "metadata": {},
   "source": [
    "#### b. Using sklearn.linear_model.LinearRegression"
   ]
  },
  {
   "cell_type": "code",
   "execution_count": 15,
   "metadata": {
    "collapsed": true
   },
   "outputs": [],
   "source": [
    "from sklearn.linear_model import LinearRegression"
   ]
  },
  {
   "cell_type": "code",
   "execution_count": 16,
   "metadata": {
    "collapsed": false
   },
   "outputs": [
    {
     "data": {
      "text/plain": [
       "array([ 40000.,  10000.,  60000.])"
      ]
     },
     "execution_count": 16,
     "metadata": {},
     "output_type": "execute_result"
    }
   ],
   "source": [
    "# Implicit intercept\n",
    "model = LinearRegression(fit_intercept=False)\n",
    "model.fit(X,y)\n",
    "model.coef_"
   ]
  },
  {
   "cell_type": "code",
   "execution_count": 17,
   "metadata": {
    "collapsed": false
   },
   "outputs": [
    {
     "name": "stdout",
     "output_type": "stream",
     "text": [
      "[ 10000.  60000.]\n",
      "40000.0\n"
     ]
    }
   ],
   "source": [
    "# Explicit intercept\n",
    "model = LinearRegression(fit_intercept=True)\n",
    "model.fit(X[:,1:3],y)\n",
    "print(model.coef_)\n",
    "print(model.intercept_)"
   ]
  },
  {
   "cell_type": "markdown",
   "metadata": {},
   "source": [
    "#### c. What happens when including Groups C and D in the Regression Model?"
   ]
  },
  {
   "cell_type": "markdown",
   "metadata": {},
   "source": [
    "No change in estimate of $10,000 earnings differential as Groups C and D are homogeneous."
   ]
  },
  {
   "cell_type": "code",
   "execution_count": 18,
   "metadata": {
    "collapsed": false
   },
   "outputs": [
    {
     "data": {
      "text/plain": [
       "array([ 40000.,  10000.,  60000.,  45000.,  35000.])"
      ]
     },
     "execution_count": 18,
     "metadata": {},
     "output_type": "execute_result"
    }
   ],
   "source": [
    "thetahat1 = np.linalg.inv(Xfull.T @ Xfull) @ (Xfull.T @ yfull); thetahat1"
   ]
  },
  {
   "cell_type": "markdown",
   "metadata": {},
   "source": [
    "#### d. Adjust for group effect on private school attendance then regress"
   ]
  },
  {
   "cell_type": "markdown",
   "metadata": {},
   "source": [
    "Regress the private school dummy for individual $i$ who resides in group $j$ on the group dummies, where $\\tilde{P}_{ij}$ is the residual term:\n",
    "\n",
    "$$\n",
    "P_{ij} = \\pi_0 + \\pi_1 A_{ij} + \\pi_2 C_{ij} + \\pi_3 D_{ij} + \\tilde{P}_{ij}\n",
    "$$"
   ]
  },
  {
   "cell_type": "code",
   "execution_count": 19,
   "metadata": {
    "collapsed": false
   },
   "outputs": [
    {
     "data": {
      "text/plain": [
       "array([ 0.5       ,  0.16666667,  0.5       , -0.5       ])"
      ]
     },
     "execution_count": 19,
     "metadata": {},
     "output_type": "execute_result"
    }
   ],
   "source": [
    "X2 = np.stack((i, a, c, d), axis=-1) # design matrix\n",
    "thetahat2 = np.linalg.inv(X2.T @ X2) @ (X2.T @ p); thetahat2 # estimate of parameter vector"
   ]
  },
  {
   "cell_type": "markdown",
   "metadata": {},
   "source": [
    "The fitted values $\\hat{\\pi}_0 + \\hat{\\pi}_1 A_{ij} + \\hat{\\pi}_2 C_{ij} + \\hat{\\pi}_3 D_{ij}$ turns out to be the mean private school attendance rate in each group, $\\bar{P}_j$."
   ]
  },
  {
   "cell_type": "code",
   "execution_count": 20,
   "metadata": {
    "collapsed": false
   },
   "outputs": [
    {
     "name": "stdout",
     "output_type": "stream",
     "text": [
      "[ 0.667  0.667  0.667  0.5    0.5    1.     1.    -0.    -0.   ]\n"
     ]
    }
   ],
   "source": [
    "# Fitted value, pbar\n",
    "np.set_printoptions(precision=3, suppress=True) # w/o scientific notation\n",
    "pbar = (X2 @ thetahat2); print(pbar) # fitted value"
   ]
  },
  {
   "cell_type": "markdown",
   "metadata": {},
   "source": [
    "Thus, the residual can be written as follows:\n",
    "\n",
    "$$\n",
    "\\tilde{P}_{ij} = P_{ij} - \\bar{P_j}\n",
    "$$"
   ]
  },
  {
   "cell_type": "code",
   "execution_count": 21,
   "metadata": {
    "collapsed": false
   },
   "outputs": [
    {
     "data": {
      "text/plain": [
       "array([ 0.333,  0.333, -0.667,  0.5  , -0.5  ,  0.   ,  0.   ,  0.   ,  0.   ])"
      ]
     },
     "execution_count": 21,
     "metadata": {},
     "output_type": "execute_result"
    }
   ],
   "source": [
    "ptilde = p - pbar; ptilde # the residual"
   ]
  },
  {
   "cell_type": "markdown",
   "metadata": {},
   "source": [
    "Now, let's finally run the following regression, where we'll see we obtain our original estimate of $\\beta$\n",
    "\n",
    "$$\n",
    "Y_{ij} = \\alpha + \\beta \\tilde{P}_{ij} + e_{ij}\n",
    "$$"
   ]
  },
  {
   "cell_type": "code",
   "execution_count": 22,
   "metadata": {
    "collapsed": false
   },
   "outputs": [
    {
     "data": {
      "text/plain": [
       "10000.000000000016"
      ]
     },
     "execution_count": 22,
     "metadata": {},
     "output_type": "execute_result"
    }
   ],
   "source": [
    "X3 = np.stack((i, ptilde), axis=-1) # design matrix\n",
    "thetahat3 = np.linalg.inv(X3.T @ X3) @ (X3.T @ yfull); thetahat3[1] # estimate"
   ]
  },
  {
   "cell_type": "markdown",
   "metadata": {},
   "source": [
    ", which can also be found by computing the following: $$\n",
    "\\beta = \\frac{C(Y_{ij},\\tilde{P}_{ij})}{V(\\tilde{P}_{ij})}\n",
    "$$"
   ]
  },
  {
   "cell_type": "code",
   "execution_count": 23,
   "metadata": {
    "collapsed": false
   },
   "outputs": [
    {
     "data": {
      "text/plain": [
       "10000.000000000015"
      ]
     },
     "execution_count": 23,
     "metadata": {},
     "output_type": "execute_result"
    }
   ],
   "source": [
    "# Beta using covariance approach\n",
    "np.cov(yfull,ptilde)[0][1]/np.cov(yfull,ptilde)[1][1]"
   ]
  }
 ],
 "metadata": {
  "anaconda-cloud": {},
  "kernelspec": {
   "display_name": "Python [conda root]",
   "language": "python",
   "name": "conda-root-py"
  },
  "language_info": {
   "codemirror_mode": {
    "name": "ipython",
    "version": 3
   },
   "file_extension": ".py",
   "mimetype": "text/x-python",
   "name": "python",
   "nbconvert_exporter": "python",
   "pygments_lexer": "ipython3",
   "version": "3.5.2"
  }
 },
 "nbformat": 4,
 "nbformat_minor": 1
}
